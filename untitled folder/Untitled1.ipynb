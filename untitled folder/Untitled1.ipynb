{
 "cells": [
  {
   "cell_type": "code",
   "execution_count": 2,
   "metadata": {},
   "outputs": [
    {
     "name": "stdout",
     "output_type": "stream",
     "text": [
      "{\"meta\":{\"status\":200},\"response\":{\"hits\":[{\"highlights\":[],\"index\":\"song\",\"type\":\"song\",\"result\":{\"annotation_count\":5,\"api_path\":\"/songs/3352793\",\"full_title\":\"Shallow by Lady Gaga & Bradley Cooper\",\"header_image_thumbnail_url\":\"https://images.genius.com/748bb66860de41158107377ed6f9979e.300x160x1.jpg\",\"header_image_url\":\"https://images.genius.com/748bb66860de41158107377ed6f9979e.750x400x1.jpg\",\"id\":3352793,\"lyrics_owner_id\":5589021,\"lyrics_state\":\"complete\",\"path\":\"/Lady-gaga-and-bradley-cooper-shallow-lyrics\",\"pyongs_count\":354,\"song_art_image_thumbnail_url\":\"https://images.genius.com/f54559c1bf36b948f8a5d36f804fc840.300x300x1.jpg\",\"song_art_image_url\":\"https://images.genius.com/f54559c1bf36b948f8a5d36f804fc840.1000x1000x1.jpg\",\"stats\":{\"unreviewed_annotations\":0,\"concurrents\":2,\"hot\":false,\"pageviews\":6267878},\"title\":\"Shallow\",\"title_with_featured\":\"Shallow\",\"url\":\"https://genius.com/Lady-gaga-and-bradley-cooper-shallow-lyrics\",\"song_art_primary_color\":\"#d1a234\",\"song_art_secondary_color\":\"#e9da9c\",\"song_art_text_color\":\"#000\",\"primary_artist\":{\"api_path\":\"/artists/1494027\",\"header_image_url\":\"https://images.genius.com/24cdc034a4ef5cfcf8d4e89ca2b85e0e.1000x668x1.jpg\",\"id\":1494027,\"image_url\":\"https://images.genius.com/8e80a7e43e4f528a6e834660392b4be6.675x675x1.jpg\",\"is_meme_verified\":false,\"is_verified\":false,\"name\":\"Lady Gaga & Bradley Cooper\",\"url\":\"https://genius.com/artists/Lady-gaga-and-bradley-cooper\"}}},{\"highlights\":[],\"index\":\"song\",\"type\":\"song\",\"result\":{\"annotation_count\":13,\"api_path\":\"/songs/1316\",\"full_title\":\"Poker Face by Lady Gaga\",\"header_image_thumbnail_url\":\"https://images.genius.com/c18b7224de0d97d107ae0b2c2aff35dc.300x300x1.png\",\"header_image_url\":\"https://images.genius.com/c18b7224de0d97d107ae0b2c2aff35dc.1000x1000x1.png\",\"id\":1316,\"lyrics_owner_id\":263424,\"lyrics_state\":\"complete\",\"path\":\"/Lady-gaga-poker-face-lyrics\",\"pyongs_count\":82,\"song_art_image_thumbnail_url\":\"https://images.genius.com/6d4915528495453664d61b6e93bf069b.300x300x1.png\",\"song_art_image_url\":\"https://images.genius.com/6d4915528495453664d61b6e93bf069b.1000x1000x1.png\",\"stats\":{\"unreviewed_annotations\":0,\"concurrents\":12,\"hot\":false,\"pageviews\":2023545},\"title\":\"Poker Face\",\"title_with_featured\":\"Poker Face\",\"url\":\"https://genius.com/Lady-gaga-poker-face-lyrics\",\"song_art_primary_color\":\"#bd8261\",\"song_art_secondary_color\":\"#154663\",\"song_art_text_color\":\"#fff\",\"primary_artist\":{\"api_path\":\"/artists/447\",\"header_image_url\":\"https://images.genius.com/cb85e83bf77ac39b736ba8b3fcaa1ad2.1000x563x1.png\",\"id\":447,\"image_url\":\"https://images.genius.com/5cb3fb176ee1ee2efc5a7f6d11de8d7c.1000x1000x1.jpg\",\"is_meme_verified\":true,\"is_verified\":true,\"name\":\"Lady Gaga\",\"url\":\"https://genius.com/artists/Lady-gaga\",\"iq\":2585}}},{\"highlights\":[],\"index\":\"song\",\"type\":\"song\",\"result\":{\"annotation_count\":11,\"api_path\":\"/songs/5317861\",\"full_title\":\"Rain On Me by Lady Gaga & Ariana Grande\",\"header_image_thumbnail_url\":\"https://images.genius.com/4bde5a44ef14231f164e466fa5fb05b9.300x50x1.jpg\",\"header_image_url\":\"https://images.genius.com/4bde5a44ef14231f164e466fa5fb05b9.1000x166x1.jpg\",\"id\":5317861,\"lyrics_owner_id\":93685,\"lyrics_state\":\"complete\",\"path\":\"/Lady-gaga-and-ariana-grande-rain-on-me-lyrics\",\"pyongs_count\":168,\"song_art_image_thumbnail_url\":\"https://images.genius.com/9d496f64593bd750bc59ffe3108acdf8.300x300x1.png\",\"song_art_image_url\":\"https://images.genius.com/9d496f64593bd750bc59ffe3108acdf8.1000x1000x1.png\",\"stats\":{\"unreviewed_annotations\":0,\"concurrents\":2,\"hot\":false,\"pageviews\":1052049},\"title\":\"Rain On Me\",\"title_with_featured\":\"Rain On Me\",\"url\":\"https://genius.com/Lady-gaga-and-ariana-grande-rain-on-me-lyrics\",\"song_art_primary_color\":\"#efdb49\",\"song_art_secondary_color\":\"#eca457\",\"song_art_text_color\":\"#000\",\"primary_artist\":{\"api_path\":\"/artists/2155035\",\"header_image_url\":\"https://images.genius.com/b7df69c46750c106a4e260db6924df4d.1000x174x1.png\",\"id\":2155035,\"image_url\":\"https://images.genius.com/7eba4999dd46e18eba575ebbc78d3b30.1000x1000x1.jpg\",\"is_meme_verified\":false,\"is_verified\":false,\"name\":\"Lady Gaga & Ariana Grande\",\"url\":\"https://genius.com/artists/Lady-gaga-and-ariana-grande\"}}},{\"highlights\":[],\"index\":\"song\",\"type\":\"song\",\"result\":{\"annotation_count\":3,\"api_path\":\"/songs/237963\",\"full_title\":\"Do What U Want by Lady Gaga (Ft. R. Kelly)\",\"header_image_thumbnail_url\":\"https://images.genius.com/9731d41777690ac64c42725e5bb3a805.300x300x1.png\",\"header_image_url\":\"https://images.genius.com/9731d41777690ac64c42725e5bb3a805.1000x1000x1.png\",\"id\":237963,\"lyrics_owner_id\":110991,\"lyrics_state\":\"complete\",\"path\":\"/Lady-gaga-do-what-u-want-lyrics\",\"pyongs_count\":131,\"song_art_image_thumbnail_url\":\"https://images.genius.com/9bb00d5661a3697680b29987fcb5fc94.300x300x1.jpg\",\"song_art_image_url\":\"https://images.genius.com/9bb00d5661a3697680b29987fcb5fc94.1000x1000x1.jpg\",\"stats\":{\"unreviewed_annotations\":0,\"hot\":false,\"pageviews\":896776},\"title\":\"Do What U Want\",\"title_with_featured\":\"Do What U Want (Ft. R. Kelly)\",\"url\":\"https://genius.com/Lady-gaga-do-what-u-want-lyrics\",\"song_art_primary_color\":\"#b1704d\",\"song_art_secondary_color\":\"#5c3a28\",\"song_art_text_color\":\"#fff\",\"primary_artist\":{\"api_path\":\"/artists/447\",\"header_image_url\":\"https://images.genius.com/cb85e83bf77ac39b736ba8b3fcaa1ad2.1000x563x1.png\",\"id\":447,\"image_url\":\"https://images.genius.com/5cb3fb176ee1ee2efc5a7f6d11de8d7c.1000x1000x1.jpg\",\"is_meme_verified\":true,\"is_verified\":true,\"name\":\"Lady Gaga\",\"url\":\"https://genius.com/artists/Lady-gaga\",\"iq\":2585}}},{\"highlights\":[],\"index\":\"song\",\"type\":\"song\",\"result\":{\"annotation_count\":7,\"api_path\":\"/songs/1313\",\"full_title\":\"Bad Romance by Lady Gaga\",\"header_image_thumbnail_url\":\"https://images.genius.com/00a18085a3b234c034ab4283829a27b7.300x300x1.png\",\"header_image_url\":\"https://images.genius.com/00a18085a3b234c034ab4283829a27b7.1000x1000x1.png\",\"id\":1313,\"lyrics_owner_id\":7,\"lyrics_state\":\"complete\",\"path\":\"/Lady-gaga-bad-romance-lyrics\",\"pyongs_count\":65,\"song_art_image_thumbnail_url\":\"https://images.genius.com/1976541b7649bf35ceb386a88e2e28b4.300x300x1.png\",\"song_art_image_url\":\"https://images.genius.com/1976541b7649bf35ceb386a88e2e28b4.1000x1000x1.png\",\"stats\":{\"unreviewed_annotations\":0,\"concurrents\":8,\"hot\":false,\"pageviews\":919645},\"title\":\"Bad Romance\",\"title_with_featured\":\"Bad Romance\",\"url\":\"https://genius.com/Lady-gaga-bad-romance-lyrics\",\"song_art_primary_color\":\"#992c28\",\"song_art_secondary_color\":\"#651514\",\"song_art_text_color\":\"#fff\",\"primary_artist\":{\"api_path\":\"/artists/447\",\"header_image_url\":\"https://images.genius.com/cb85e83bf77ac39b736ba8b3fcaa1ad2.1000x563x1.png\",\"id\":447,\"image_url\":\"https://images.genius.com/5cb3fb176ee1ee2efc5a7f6d11de8d7c.1000x1000x1.jpg\",\"is_meme_verified\":true,\"is_verified\":true,\"name\":\"Lady Gaga\",\"url\":\"https://genius.com/artists/Lady-gaga\",\"iq\":2585}}},{\"highlights\":[],\"index\":\"song\",\"type\":\"song\",\"result\":{\"annotation_count\":3,\"api_path\":\"/songs/3646077\",\"full_title\":\"Always Remember Us This Way by Lady Gaga\",\"header_image_thumbnail_url\":\"https://images.genius.com/2c1dd1e1daf1614994dc70b00b4f49cf.300x300x1.jpg\",\"header_image_url\":\"https://images.genius.com/2c1dd1e1daf1614994dc70b00b4f49cf.1000x1000x1.jpg\",\"id\":3646077,\"lyrics_owner_id\":1476199,\"lyrics_state\":\"complete\",\"path\":\"/Lady-gaga-always-remember-us-this-way-lyrics\",\"pyongs_count\":31,\"song_art_image_thumbnail_url\":\"https://images.genius.com/2c1dd1e1daf1614994dc70b00b4f49cf.300x300x1.jpg\",\"song_art_image_url\":\"https://images.genius.com/2c1dd1e1daf1614994dc70b00b4f49cf.1000x1000x1.jpg\",\"stats\":{\"unreviewed_annotations\":1,\"hot\":false,\"pageviews\":889495},\"title\":\"Always Remember Us This Way\",\"title_with_featured\":\"Always Remember Us This Way\",\"url\":\"https://genius.com/Lady-gaga-always-remember-us-this-way-lyrics\",\"song_art_primary_color\":\"#ad9048\",\"song_art_secondary_color\":\"#0c0904\",\"song_art_text_color\":\"#fff\",\"primary_artist\":{\"api_path\":\"/artists/447\",\"header_image_url\":\"https://images.genius.com/cb85e83bf77ac39b736ba8b3fcaa1ad2.1000x563x1.png\",\"id\":447,\"image_url\":\"https://images.genius.com/5cb3fb176ee1ee2efc5a7f6d11de8d7c.1000x1000x1.jpg\",\"is_meme_verified\":true,\"is_verified\":true,\"name\":\"Lady Gaga\",\"url\":\"https://genius.com/artists/Lady-gaga\",\"iq\":2585}}},{\"highlights\":[],\"index\":\"song\",\"type\":\"song\",\"result\":{\"annotation_count\":4,\"api_path\":\"/songs/5489013\",\"full_title\":\"Sour Candy by Lady Gaga & BLACKPINK\",\"header_image_thumbnail_url\":\"https://images.genius.com/66a8a09b033203ae37303ca79c680339.300x300x1.png\",\"header_image_url\":\"https://images.genius.com/66a8a09b033203ae37303ca79c680339.1000x1000x1.png\",\"id\":5489013,\"lyrics_owner_id\":4335922,\"lyrics_state\":\"complete\",\"path\":\"/Lady-gaga-and-blackpink-sour-candy-lyrics\",\"pyongs_count\":69,\"song_art_image_thumbnail_url\":\"https://images.genius.com/dc89aa9c29e52e79aaa155ee804d01e3.300x300x1.png\",\"song_art_image_url\":\"https://images.genius.com/dc89aa9c29e52e79aaa155ee804d01e3.1000x1000x1.png\",\"stats\":{\"unreviewed_annotations\":1,\"concurrents\":2,\"hot\":false,\"pageviews\":814077},\"title\":\"Sour Candy\",\"title_with_featured\":\"Sour Candy\",\"url\":\"https://genius.com/Lady-gaga-and-blackpink-sour-candy-lyrics\",\"song_art_primary_color\":\"#3c845c\",\"song_art_secondary_color\":\"#295b3f\",\"song_art_text_color\":\"#fff\",\"primary_artist\":{\"api_path\":\"/artists/2205561\",\"header_image_url\":\"https://images.genius.com/d824cb9d6034f2868f61647104d3bbb9.1000x298x1.png\",\"id\":2205561,\"image_url\":\"https://images.genius.com/3979ac2a97210086867ec2458f8cd4c6.1000x1000x1.jpg\",\"is_meme_verified\":false,\"is_verified\":false,\"name\":\"Lady Gaga & BLACKPINK\",\"url\":\"https://genius.com/artists/Lady-gaga-and-blackpink\"}}},{\"highlights\":[],\"index\":\"song\",\"type\":\"song\",\"result\":{\"annotation_count\":8,\"api_path\":\"/songs/212646\",\"full_title\":\"Sexxx Dreams by Lady Gaga\",\"header_image_thumbnail_url\":\"https://images.genius.com/c39f988c97bea03470a4396e3bd5fc4e.300x300x1.jpg\",\"header_image_url\":\"https://images.genius.com/c39f988c97bea03470a4396e3bd5fc4e.1000x1000x1.jpg\",\"id\":212646,\"lyrics_owner_id\":70148,\"lyrics_state\":\"complete\",\"path\":\"/Lady-gaga-sexxx-dreams-lyrics\",\"pyongs_count\":42,\"song_art_image_thumbnail_url\":\"https://images.genius.com/c39f988c97bea03470a4396e3bd5fc4e.300x300x1.jpg\",\"song_art_image_url\":\"https://images.genius.com/c39f988c97bea03470a4396e3bd5fc4e.1000x1000x1.jpg\",\"stats\":{\"unreviewed_annotations\":0,\"hot\":false,\"pageviews\":735233},\"title\":\"Sexxx Dreams\",\"title_with_featured\":\"Sexxx Dreams\",\"url\":\"https://genius.com/Lady-gaga-sexxx-dreams-lyrics\",\"song_art_primary_color\":\"#e43493\",\"song_art_secondary_color\":\"#26417c\",\"song_art_text_color\":\"#fff\",\"primary_artist\":{\"api_path\":\"/artists/447\",\"header_image_url\":\"https://images.genius.com/cb85e83bf77ac39b736ba8b3fcaa1ad2.1000x563x1.png\",\"id\":447,\"image_url\":\"https://images.genius.com/5cb3fb176ee1ee2efc5a7f6d11de8d7c.1000x1000x1.jpg\",\"is_meme_verified\":true,\"is_verified\":true,\"name\":\"Lady Gaga\",\"url\":\"https://genius.com/artists/Lady-gaga\",\"iq\":2585}}},{\"highlights\":[],\"index\":\"song\",\"type\":\"song\",\"result\":{\"annotation_count\":10,\"api_path\":\"/songs/2865087\",\"full_title\":\"Million Reasons by Lady Gaga\",\"header_image_thumbnail_url\":\"https://images.genius.com/eed1676c9dda497cc0ef5d45153f17fd.300x300x1.jpg\",\"header_image_url\":\"https://images.genius.com/eed1676c9dda497cc0ef5d45153f17fd.1000x1000x1.jpg\",\"id\":2865087,\"lyrics_owner_id\":319713,\"lyrics_state\":\"complete\",\"path\":\"/Lady-gaga-million-reasons-lyrics\",\"pyongs_count\":66,\"song_art_image_thumbnail_url\":\"https://images.genius.com/666e99039814f17c29957f3e89f4cd07.300x300x1.jpg\",\"song_art_image_url\":\"https://images.genius.com/666e99039814f17c29957f3e89f4cd07.1000x1000x1.jpg\",\"stats\":{\"unreviewed_annotations\":1,\"concurrents\":2,\"hot\":false,\"pageviews\":620023},\"title\":\"Million Reasons\",\"title_with_featured\":\"Million Reasons\",\"url\":\"https://genius.com/Lady-gaga-million-reasons-lyrics\",\"song_art_primary_color\":\"#7f7f7f\",\"song_art_secondary_color\":\"#424242\",\"song_art_text_color\":\"#fff\",\"primary_artist\":{\"api_path\":\"/artists/447\",\"header_image_url\":\"https://images.genius.com/cb85e83bf77ac39b736ba8b3fcaa1ad2.1000x563x1.png\",\"id\":447,\"image_url\":\"https://images.genius.com/5cb3fb176ee1ee2efc5a7f6d11de8d7c.1000x1000x1.jpg\",\"is_meme_verified\":true,\"is_verified\":true,\"name\":\"Lady Gaga\",\"url\":\"https://genius.com/artists/Lady-gaga\",\"iq\":2585}}},{\"highlights\":[],\"index\":\"song\",\"type\":\"song\",\"result\":{\"annotation_count\":1,\"api_path\":\"/songs/3771490\",\"full_title\":\"I'll Never Love Again (Extended Version) by Lady Gaga\",\"header_image_thumbnail_url\":\"https://images.genius.com/3f750a8c9ce9268f9744c9fd99678824.300x300x1.png\",\"header_image_url\":\"https://images.genius.com/3f750a8c9ce9268f9744c9fd99678824.867x867x1.png\",\"id\":3771490,\"lyrics_owner_id\":1476199,\"lyrics_state\":\"complete\",\"path\":\"/Lady-gaga-ill-never-love-again-extended-version-lyrics\",\"pyongs_count\":23,\"song_art_image_thumbnail_url\":\"https://images.genius.com/3f750a8c9ce9268f9744c9fd99678824.300x300x1.png\",\"song_art_image_url\":\"https://images.genius.com/3f750a8c9ce9268f9744c9fd99678824.867x867x1.png\",\"stats\":{\"unreviewed_annotations\":0,\"hot\":false,\"pageviews\":634537},\"title\":\"I’ll Never Love Again (Extended Version)\",\"title_with_featured\":\"I'll Never Love Again (Extended Version)\",\"url\":\"https://genius.com/Lady-gaga-ill-never-love-again-extended-version-lyrics\",\"song_art_primary_color\":\"#cfa43a\",\"song_art_secondary_color\":\"#d5c089\",\"song_art_text_color\":\"#000\",\"primary_artist\":{\"api_path\":\"/artists/447\",\"header_image_url\":\"https://images.genius.com/cb85e83bf77ac39b736ba8b3fcaa1ad2.1000x563x1.png\",\"id\":447,\"image_url\":\"https://images.genius.com/5cb3fb176ee1ee2efc5a7f6d11de8d7c.1000x1000x1.jpg\",\"is_meme_verified\":true,\"is_verified\":true,\"name\":\"Lady Gaga\",\"url\":\"https://genius.com/artists/Lady-gaga\",\"iq\":2585}}}]}}\n"
     ]
    }
   ],
   "source": [
    "import requests\n",
    "\n",
    "url = \"https://genius.p.rapidapi.com/search\"\n",
    "\n",
    "querystring = {\"q\":\"Lady Gaga\"}\n",
    "\n",
    "headers = {\n",
    "    'x-rapidapi-key': \"caa178eab3mshc53736ee50b2d16p16dc9ajsn4f059d833c6a\",\n",
    "    'x-rapidapi-host': \"genius.p.rapidapi.com\"\n",
    "    }\n",
    "\n",
    "response = requests.request(\"GET\", url, headers=headers, params=querystring)\n",
    "\n",
    "print(response.text)"
   ]
  },
  {
   "cell_type": "code",
   "execution_count": 3,
   "metadata": {},
   "outputs": [
    {
     "name": "stdout",
     "output_type": "stream",
     "text": [
      "{\"messages\":\"The API is unreachable, please contact the API provider\", \"info\": \"Your Client (working) ---> Gateway (working) ---> API (not working)\"}\n"
     ]
    }
   ],
   "source": [
    "import http.client\n",
    "\n",
    "conn = http.client.HTTPSConnection(\"redditdimashirokovv1.p.rapidapi.com\")\n",
    "\n",
    "payload = \"subreddit=%3CREQUIRED%3E&appClientId=%3CREQUIRED%3E&accessToken=%3CREQUIRED%3E&limit=100\"\n",
    "\n",
    "headers = {\n",
    "    'content-type': \"application/x-www-form-urlencoded\",\n",
    "    'x-rapidapi-key': \"caa178eab3mshc53736ee50b2d16p16dc9ajsn4f059d833c6a\",\n",
    "    'x-rapidapi-host': \"RedditdimashirokovV1.p.rapidapi.com\"\n",
    "    }\n",
    "\n",
    "conn.request(\"POST\", \"/getTop\", payload, headers)\n",
    "\n",
    "res = conn.getresponse()\n",
    "data = res.read()\n",
    "\n",
    "print(data.decode(\"utf-8\"))"
   ]
  },
  {
   "cell_type": "code",
   "execution_count": null,
   "metadata": {},
   "outputs": [],
   "source": []
  }
 ],
 "metadata": {
  "kernelspec": {
   "display_name": "Python [conda env:pythondata] *",
   "language": "python",
   "name": "conda-env-pythondata-py"
  },
  "language_info": {
   "codemirror_mode": {
    "name": "ipython",
    "version": 3
   },
   "file_extension": ".py",
   "mimetype": "text/x-python",
   "name": "python",
   "nbconvert_exporter": "python",
   "pygments_lexer": "ipython3",
   "version": "3.6.10"
  }
 },
 "nbformat": 4,
 "nbformat_minor": 4
}
